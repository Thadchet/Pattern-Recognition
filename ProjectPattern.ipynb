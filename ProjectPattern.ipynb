{
  "nbformat": 4,
  "nbformat_minor": 0,
  "metadata": {
    "colab": {
      "name": "ProjectPattern.ipynb",
      "provenance": [],
      "toc_visible": true,
      "include_colab_link": true
    },
    "kernelspec": {
      "name": "python3",
      "display_name": "Python 3"
    },
    "language_info": {
      "codemirror_mode": {
        "name": "ipython",
        "version": 3
      },
      "file_extension": ".py",
      "mimetype": "text/x-python",
      "name": "python",
      "nbconvert_exporter": "python",
      "pygments_lexer": "ipython3",
      "version": "3.6.9"
    },
    "accelerator": "GPU"
  },
  "cells": [
    {
      "cell_type": "markdown",
      "metadata": {
        "id": "view-in-github",
        "colab_type": "text"
      },
      "source": [
        "<a href=\"https://colab.research.google.com/github/Thadchet/Pattern-Recognition/blob/master/ProjectPattern.ipynb\" target=\"_parent\"><img src=\"https://colab.research.google.com/assets/colab-badge.svg\" alt=\"Open In Colab\"/></a>"
      ]
    },
    {
      "cell_type": "code",
      "metadata": {
        "colab_type": "code",
        "id": "fi_E1eTMity0",
        "outputId": "106ab46c-d166-464a-f641-728c1359a8a7",
        "scrolled": true,
        "colab": {
          "base_uri": "https://localhost:8080/",
          "height": 96
        }
      },
      "source": [
        "import os\n",
        "import glob\n",
        "import h5py\n",
        "import shutil\n",
        "import imgaug as aug\n",
        "import numpy as np # linear algebra\n",
        "import pandas as pd # data processing, CSV file I/O (e.g. pd.read_csv)\n",
        "import seaborn as sns\n",
        "import matplotlib.pyplot as plt\n",
        "import matplotlib.image as mimg\n",
        "import imgaug.augmenters as iaa\n",
        "from os import listdir, makedirs, getcwd, remove\n",
        "from PIL import Image\n",
        "from pathlib import Path\n",
        "from skimage.io import imread\n",
        "from skimage.transform import resize\n",
        "from keras.models import Sequential, Model\n",
        "from keras.preprocessing.image import ImageDataGenerator,load_img, img_to_array\n",
        "from keras.layers import Conv2D, MaxPooling2D, Dense, Dropout, Input, Flatten, SeparableConv2D ,GlobalMaxPooling2D\n",
        "from keras.layers.normalization import BatchNormalization\n",
        "from keras.layers.merge import Concatenate\n",
        "from keras.optimizers import Adam, SGD, RMSprop\n",
        "from keras.callbacks import ModelCheckpoint, Callback, EarlyStopping\n",
        "from keras.utils import to_categorical\n",
        "from sklearn.model_selection import train_test_split\n",
        "from sklearn.preprocessing import StandardScaler\n",
        "from sklearn.metrics import roc_curve,auc\n",
        "from mlxtend.plotting import plot_confusion_matrix\n",
        "from sklearn.metrics import confusion_matrix , accuracy_score\n",
        "import cv2\n",
        "from keras import backend as K\n",
        "from scipy.optimize import differential_evolution\n",
        "from numpy.linalg import norm\n",
        "\n",
        "color = sns.color_palette()\n",
        "%matplotlib inline\n",
        "\n",
        "# Input data files are available in the \"../input/\" directory.\n",
        "# For example, running this (by clicking run or pressing Shift+Enter) will list the files in the input directory\n",
        "print(os.listdir(\"./\"))\n",
        "\n",
        "# Any results you write to the current directory are saved as output."
      ],
      "execution_count": 0,
      "outputs": [
        {
          "output_type": "stream",
          "text": [
            "Using TensorFlow backend.\n"
          ],
          "name": "stderr"
        },
        {
          "output_type": "display_data",
          "data": {
            "text/html": [
              "<p style=\"color: red;\">\n",
              "The default version of TensorFlow in Colab will soon switch to TensorFlow 2.x.<br>\n",
              "We recommend you <a href=\"https://www.tensorflow.org/guide/migrate\" target=\"_blank\">upgrade</a> now \n",
              "or ensure your notebook will continue to use TensorFlow 1.x via the <code>%tensorflow_version 1.x</code> magic:\n",
              "<a href=\"https://colab.research.google.com/notebooks/tensorflow_version.ipynb\" target=\"_blank\">more info</a>.</p>\n"
            ],
            "text/plain": [
              "<IPython.core.display.HTML object>"
            ]
          },
          "metadata": {
            "tags": []
          }
        },
        {
          "output_type": "stream",
          "text": [
            "['.config', 'sample_data']\n"
          ],
          "name": "stdout"
        }
      ]
    },
    {
      "cell_type": "code",
      "metadata": {
        "id": "P7EBbL40Is9C",
        "colab_type": "code",
        "outputId": "7e96ab70-ff72-40b4-ff05-6a3564bfc081",
        "colab": {
          "base_uri": "https://localhost:8080/",
          "height": 33
        }
      },
      "source": [
        "import sys\n",
        "print(sys.executable)"
      ],
      "execution_count": 0,
      "outputs": [
        {
          "output_type": "stream",
          "text": [
            "/usr/bin/python3\n"
          ],
          "name": "stdout"
        }
      ]
    },
    {
      "cell_type": "code",
      "metadata": {
        "id": "EED940L6UeaX",
        "colab_type": "code",
        "outputId": "963ff7fd-624e-4397-d19b-2fc5370f75f2",
        "colab": {
          "base_uri": "https://localhost:8080/",
          "height": 120
        }
      },
      "source": [
        "from google.colab import drive\n",
        "drive.mount('/content/drive')"
      ],
      "execution_count": 0,
      "outputs": [
        {
          "output_type": "stream",
          "text": [
            "Go to this URL in a browser: https://accounts.google.com/o/oauth2/auth?client_id=947318989803-6bn6qk8qdgf4n4g3pfee6491hc0brc4i.apps.googleusercontent.com&redirect_uri=urn%3aietf%3awg%3aoauth%3a2.0%3aoob&response_type=code&scope=email%20https%3a%2f%2fwww.googleapis.com%2fauth%2fdocs.test%20https%3a%2f%2fwww.googleapis.com%2fauth%2fdrive%20https%3a%2f%2fwww.googleapis.com%2fauth%2fdrive.photos.readonly%20https%3a%2f%2fwww.googleapis.com%2fauth%2fpeopleapi.readonly\n",
            "\n",
            "Enter your authorization code:\n",
            "··········\n",
            "Mounted at /content/drive\n"
          ],
          "name": "stdout"
        }
      ]
    },
    {
      "cell_type": "code",
      "metadata": {
        "colab_type": "code",
        "id": "lCn4Lz5ciz8e",
        "colab": {}
      },
      "source": [
        "import tensorflow as tf\n",
        "\n",
        "# Set the seed for hash based operations in python\n",
        "os.environ['PYTHONHASHSEED'] = '0'\n",
        "\n",
        "# Set the numpy seed\n",
        "np.random.seed(111)\n",
        "\n",
        "# Disable multi-threading in tensorflow ops\n",
        "session_conf = tf.ConfigProto(intra_op_parallelism_threads=1, inter_op_parallelism_threads=1)\n",
        "\n",
        "# Set the random seed in tensorflow at graph level\n",
        "tf.set_random_seed(111)\n",
        "\n",
        "# Define a tensorflow session with above session configs\n",
        "sess = tf.Session(graph=tf.get_default_graph(), config=session_conf)\n",
        "\n",
        "# Set the session in keras\n",
        "K.set_session(sess)\n",
        "\n",
        "# Make the augmentation sequence deterministic\n",
        "aug.seed(111)"
      ],
      "execution_count": 0,
      "outputs": []
    },
    {
      "cell_type": "code",
      "metadata": {
        "id": "ZSZhWxFxIs9N",
        "colab_type": "code",
        "colab": {}
      },
      "source": [
        "# Define path to the data directory\n",
        "data_dir = Path('./drive/My Drive/Pattern Recognition/Dataset/chest_xray')\n",
        "\n",
        "# Path to train directory (Fancy pathlib...no more os.path!!)\n",
        "train_dir = data_dir / 'train'\n",
        "\n",
        "# Path to validation directory\n",
        "val_dir = data_dir / 'val'\n",
        "\n",
        "# Path to test directory\n",
        "test_dir = data_dir / 'test'"
      ],
      "execution_count": 0,
      "outputs": []
    },
    {
      "cell_type": "code",
      "metadata": {
        "id": "acDDr1vXIs9Q",
        "colab_type": "code",
        "outputId": "e88dc87a-52c7-4a23-926b-438c95ea2caa",
        "colab": {
          "base_uri": "https://localhost:8080/",
          "height": 196
        }
      },
      "source": [
        "# Get the path to the normal and pneumonia sub-directories\n",
        "normal_cases_dir = train_dir / 'NORMAL'\n",
        "pneumonia_cases_dir = train_dir / 'PNEUMONIA'\n",
        "\n",
        "# Get the list of all the images\n",
        "normal_cases = normal_cases_dir.glob('*.jpeg')\n",
        "pneumonia_cases = pneumonia_cases_dir.glob('*.jpeg')\n",
        "\n",
        "# An empty list. We will insert the data into this list in (img_path, label) format\n",
        "train_data = []\n",
        "\n",
        "# Go through all the normal cases. The label for these cases will be 0\n",
        "for img in normal_cases:\n",
        "    train_data.append((img,0))\n",
        "\n",
        "# Go through all the pneumonia cases. The label for these cases will be 1\n",
        "for img in pneumonia_cases:\n",
        "    train_data.append((img, 1))\n",
        "\n",
        "# Get a pandas dataframe from the data we have in our list \n",
        "train_data = pd.DataFrame(train_data, columns=['image', 'label'],index=None)\n",
        "\n",
        "# Shuffle the data \n",
        "train_data = train_data.sample(frac=1.).reset_index(drop=True)\n",
        "\n",
        "# How the dataframe looks like?\n",
        "train_data.head()"
      ],
      "execution_count": 0,
      "outputs": [
        {
          "output_type": "execute_result",
          "data": {
            "text/html": [
              "<div>\n",
              "<style scoped>\n",
              "    .dataframe tbody tr th:only-of-type {\n",
              "        vertical-align: middle;\n",
              "    }\n",
              "\n",
              "    .dataframe tbody tr th {\n",
              "        vertical-align: top;\n",
              "    }\n",
              "\n",
              "    .dataframe thead th {\n",
              "        text-align: right;\n",
              "    }\n",
              "</style>\n",
              "<table border=\"1\" class=\"dataframe\">\n",
              "  <thead>\n",
              "    <tr style=\"text-align: right;\">\n",
              "      <th></th>\n",
              "      <th>image</th>\n",
              "      <th>label</th>\n",
              "    </tr>\n",
              "  </thead>\n",
              "  <tbody>\n",
              "    <tr>\n",
              "      <th>0</th>\n",
              "      <td>drive/My Drive/Pattern Recognition/Dataset/che...</td>\n",
              "      <td>1</td>\n",
              "    </tr>\n",
              "    <tr>\n",
              "      <th>1</th>\n",
              "      <td>drive/My Drive/Pattern Recognition/Dataset/che...</td>\n",
              "      <td>1</td>\n",
              "    </tr>\n",
              "    <tr>\n",
              "      <th>2</th>\n",
              "      <td>drive/My Drive/Pattern Recognition/Dataset/che...</td>\n",
              "      <td>1</td>\n",
              "    </tr>\n",
              "    <tr>\n",
              "      <th>3</th>\n",
              "      <td>drive/My Drive/Pattern Recognition/Dataset/che...</td>\n",
              "      <td>1</td>\n",
              "    </tr>\n",
              "    <tr>\n",
              "      <th>4</th>\n",
              "      <td>drive/My Drive/Pattern Recognition/Dataset/che...</td>\n",
              "      <td>1</td>\n",
              "    </tr>\n",
              "  </tbody>\n",
              "</table>\n",
              "</div>"
            ],
            "text/plain": [
              "                                               image  label\n",
              "0  drive/My Drive/Pattern Recognition/Dataset/che...      1\n",
              "1  drive/My Drive/Pattern Recognition/Dataset/che...      1\n",
              "2  drive/My Drive/Pattern Recognition/Dataset/che...      1\n",
              "3  drive/My Drive/Pattern Recognition/Dataset/che...      1\n",
              "4  drive/My Drive/Pattern Recognition/Dataset/che...      1"
            ]
          },
          "metadata": {
            "tags": []
          },
          "execution_count": 6
        }
      ]
    },
    {
      "cell_type": "code",
      "metadata": {
        "id": "az-pOyQ1Is9T",
        "colab_type": "code",
        "outputId": "831584d4-5e81-40c0-af98-51b2c5a5d813",
        "colab": {
          "base_uri": "https://localhost:8080/",
          "height": 567
        }
      },
      "source": [
        "# Get the counts for each class\n",
        "cases_count = train_data['label'].value_counts()\n",
        "print(cases_count)\n",
        "\n",
        "# Plot the results \n",
        "plt.figure(figsize=(10,8))\n",
        "sns.barplot(x=cases_count.index, y= cases_count.values)\n",
        "plt.title('Number of cases', fontsize=14)\n",
        "plt.xlabel('Case type', fontsize=12)\n",
        "plt.ylabel('Count', fontsize=12)\n",
        "plt.xticks(range(len(cases_count.index)), ['Normal(0)', 'Pneumonia(1)'])\n",
        "plt.show()"
      ],
      "execution_count": 0,
      "outputs": [
        {
          "output_type": "stream",
          "text": [
            "1    3875\n",
            "0    1357\n",
            "Name: label, dtype: int64\n"
          ],
          "name": "stdout"
        },
        {
          "output_type": "display_data",
          "data": {
            "image/png": "[encoded data removed]",
            "text/plain": [
              "<Figure size 720x576 with 1 Axes>"
            ]
          },
          "metadata": {
            "tags": []
          }
        }
      ]
    },
    {
      "cell_type": "code",
      "metadata": {
        "id": "WuGM2nZqIs9Z",
        "colab_type": "code",
        "outputId": "bdf37339-26c3-4ccd-fd03-aadf3c783bdf",
        "colab": {
          "base_uri": "https://localhost:8080/",
          "height": 50
        }
      },
      "source": [
        "# Get the path to the sub-directories\n",
        "normal_cases_dir = val_dir / 'NORMAL'\n",
        "pneumonia_cases_dir = val_dir / 'PNEUMONIA'\n",
        "\n",
        "# Get the list of all the images\n",
        "normal_cases = normal_cases_dir.glob('*.jpeg')\n",
        "pneumonia_cases = pneumonia_cases_dir.glob('*.jpeg')\n",
        "\n",
        "# List that are going to contain validation images data and the corresponding labels\n",
        "valid_data = []\n",
        "valid_labels = []\n",
        "\n",
        "\n",
        "# Some images are in grayscale while majority of them contains 3 channels. So, if the image is grayscale, we will convert into a image with 3 channels.\n",
        "# We will normalize the pixel values and resizing all the images to 224x224 \n",
        "\n",
        "# Normal cases\n",
        "for img in normal_cases:\n",
        "    img = cv2.imread(str(img))\n",
        "    img = cv2.resize(img, (224,224))\n",
        "    if img.shape[2] ==1:\n",
        "        img = np.dstack([img, img, img])\n",
        "    img = cv2.cvtColor(img, cv2.COLOR_BGR2RGB)\n",
        "    img = img.astype(np.float32)/255.\n",
        "    label = [0]\n",
        "    valid_data.append(img)\n",
        "    valid_labels.append(label)\n",
        "                      \n",
        "# Pneumonia cases        \n",
        "for img in pneumonia_cases:\n",
        "    img = cv2.imread(str(img))\n",
        "    img = cv2.resize(img, (224,224))\n",
        "    if img.shape[2] ==1:\n",
        "        img = np.dstack([img, img, img])\n",
        "    img = cv2.cvtColor(img, cv2.COLOR_BGR2RGB)\n",
        "    img = img.astype(np.float32)/255.\n",
        "    label = [1]\n",
        "    valid_data.append(img)\n",
        "    valid_labels.append(label)\n",
        "    \n",
        "# Convert the list into numpy arrays\n",
        "valid_data = np.array(valid_data)\n",
        "valid_labels = np.array(valid_labels)\n",
        "print(\"Total number of validation examples: \", valid_data.shape)\n",
        "print(\"Total number of labels:\", valid_labels.shape)"
      ],
      "execution_count": 0,
      "outputs": [
        {
          "output_type": "stream",
          "text": [
            "Total number of validation examples:  (16, 224, 224, 3)\n",
            "Total number of labels: (16, 1)\n"
          ],
          "name": "stdout"
        }
      ]
    },
    {
      "cell_type": "code",
      "metadata": {
        "id": "D9BJO89hzRaA",
        "colab_type": "code",
        "outputId": "5dc69006-7555-44f9-ed9b-c91c5c2cbd96",
        "colab": {
          "base_uri": "https://localhost:8080/",
          "height": 50
        }
      },
      "source": [
        "# Preparing test data\n",
        "normal_cases_dir = test_dir / 'NORMAL'\n",
        "pneumonia_cases_dir = test_dir / 'PNEUMONIA'\n",
        "\n",
        "normal_cases = normal_cases_dir.glob('*.jpeg')\n",
        "pneumonia_cases = pneumonia_cases_dir.glob('*.jpeg')\n",
        "\n",
        "test_data = []\n",
        "test_labels = []\n",
        "\n",
        "for img in normal_cases:\n",
        "    img = cv2.imread(str(img))\n",
        "    img = cv2.resize(img, (224,224))\n",
        "    if img.shape[2] ==1:\n",
        "        img = np.dstack([img, img, img])\n",
        "    else:\n",
        "        img = cv2.cvtColor(img, cv2.COLOR_BGR2RGB)\n",
        "    img = img.astype(np.float32)/255.\n",
        "    label = [0]\n",
        "    test_data.append(img)\n",
        "    test_labels.append(label)\n",
        "                      \n",
        "for img in pneumonia_cases:\n",
        "    img = cv2.imread(str(img))\n",
        "    img = cv2.resize(img, (224,224))\n",
        "    if img.shape[2] ==1:\n",
        "        img = np.dstack([img, img, img])\n",
        "    else:\n",
        "        img = cv2.cvtColor(img, cv2.COLOR_BGR2RGB)\n",
        "    img = img.astype(np.float32)/255.\n",
        "    label = [1]\n",
        "    test_data.append(img)\n",
        "    test_labels.append(label)\n",
        "    \n",
        "\n",
        "test_data = np.array(test_data)\n",
        "test_labels = np.array(test_labels)\n",
        "\n",
        "print(\"Total number of test examples: \", test_data.shape)\n",
        "print(\"Total number of labels:\", test_labels.shape)"
      ],
      "execution_count": 0,
      "outputs": [
        {
          "output_type": "stream",
          "text": [
            "Total number of test examples:  (624, 224, 224, 3)\n",
            "Total number of labels: (624, 1)\n"
          ],
          "name": "stdout"
        }
      ]
    },
    {
      "cell_type": "code",
      "metadata": {
        "id": "WtVey9unIs9c",
        "colab_type": "code",
        "colab": {}
      },
      "source": [
        "# Augmentation sequence \n",
        "seq = iaa.OneOf([\n",
        "    iaa.Fliplr(), # horizontal flips\n",
        "    iaa.Affine(rotate=20), # roatation\n",
        "    iaa.Multiply((1.2, 1.5))]) #random brightness"
      ],
      "execution_count": 0,
      "outputs": []
    },
    {
      "cell_type": "code",
      "metadata": {
        "id": "26zPab_ZIs9g",
        "colab_type": "code",
        "colab": {}
      },
      "source": [
        "def data_gen(data, batch_size):\n",
        "    # Get total number of samples in the data\n",
        "    n = len(data)\n",
        "    steps = n//batch_size\n",
        "    \n",
        "    # Define two numpy arrays for containing batch data and labels\n",
        "    batch_data = np.zeros((batch_size, 224, 224, 3), dtype=np.float32)\n",
        "    batch_labels = np.zeros((batch_size,1), dtype=np.float32)\n",
        "\n",
        "    # Get a numpy array of all the indices of the input data\n",
        "    indices = np.arange(n)\n",
        "    \n",
        "    # Initialize a counter\n",
        "    i =0\n",
        "    while True:\n",
        "        np.random.shuffle(indices)\n",
        "        # Get the next batch \n",
        "        count = 0\n",
        "        next_batch = indices[(i*batch_size):(i+1)*batch_size]\n",
        "        for j, idx in enumerate(next_batch):\n",
        "            img_name = data.iloc[idx]['image']\n",
        "            label = data.iloc[idx]['label']\n",
        "              \n",
        "           # read the image and resize\n",
        "            img = cv2.imread(str(img_name))\n",
        "            img = cv2.resize(img, (224,224))\n",
        "            \n",
        "            # check if it's grayscale\n",
        "            if img.shape[2]==1:\n",
        "                img = np.dstack([img, img, img])\n",
        "            \n",
        "            # cv2 reads in BGR mode by default\n",
        "            orig_img = cv2.cvtColor(img, cv2.COLOR_BGR2RGB)\n",
        "            # normalize the image pixels\n",
        "            orig_img = img.astype(np.float32)/255.\n",
        "            \n",
        "            batch_data[count] = orig_img\n",
        "            batch_labels[count] = [label]\n",
        "            \n",
        "            # generating more samples of the undersampled class\n",
        "            if label==0 and count < batch_size-2:\n",
        "                aug_img1 = seq.augment_image(img)\n",
        "                aug_img2 = seq.augment_image(img)\n",
        "                aug_img1 = cv2.cvtColor(aug_img1, cv2.COLOR_BGR2RGB)\n",
        "                aug_img2 = cv2.cvtColor(aug_img2, cv2.COLOR_BGR2RGB)\n",
        "                aug_img1 = aug_img1.astype(np.float32)/255.\n",
        "                aug_img2 = aug_img2.astype(np.float32)/255.\n",
        "\n",
        "                batch_data[count+1] = aug_img1\n",
        "                batch_labels[count+1] = [label]\n",
        "                batch_data[count+2] = aug_img2\n",
        "                batch_labels[count+2] = [label]\n",
        "                count +=2\n",
        "            \n",
        "            else:\n",
        "                count+=1\n",
        "            \n",
        "            if count==batch_size-1:\n",
        "                break\n",
        "            \n",
        "        i+=1\n",
        "        yield batch_data, batch_labels\n",
        "            \n",
        "        if i>=steps:\n",
        "            i=0"
      ],
      "execution_count": 0,
      "outputs": []
    },
    {
      "cell_type": "markdown",
      "metadata": {
        "id": "dOJy72uVzE1o",
        "colab_type": "text"
      },
      "source": [
        "# **Train Model**"
      ]
    },
    {
      "cell_type": "code",
      "metadata": {
        "id": "eUb2SwcOIs9k",
        "colab_type": "code",
        "colab": {}
      },
      "source": [
        "from keras.preprocessing import image\n",
        "from keras.layers import Dense, GlobalAveragePooling2D\n",
        "from keras.applications.inception_v3 import InceptionV3\n",
        "from keras.layers import Input\n",
        "def build_model():\n",
        "    base_model = InceptionV3(weights='imagenet', include_top=False,input_shape=(224,224,3))\n",
        "    x = base_model.output\n",
        "    x = GlobalAveragePooling2D()(x)\n",
        "    x = Dense(100, activation='relu')(x)\n",
        "    predictions = Dense(1, activation='sigmoid')(x)\n",
        "    \n",
        "    # this is the model we will train\n",
        "    model = Model(inputs=base_model.input, outputs=predictions)\n",
        "    return model"
      ],
      "execution_count": 0,
      "outputs": []
    },
    {
      "cell_type": "code",
      "metadata": {
        "id": "E0eTcAyoIs9o",
        "colab_type": "code",
        "outputId": "b19ce5c4-ec4d-4e7d-b86c-f3e4a1cd611e",
        "colab": {
          "base_uri": "https://localhost:8080/",
          "height": 405
        }
      },
      "source": [
        "model =  build_model()\n",
        "# # model.load_weights('weight1.h5')\n",
        "# model.summary()"
      ],
      "execution_count": 0,
      "outputs": [
        {
          "output_type": "stream",
          "text": [
            "WARNING:tensorflow:From /usr/local/lib/python3.6/dist-packages/keras/backend/tensorflow_backend.py:541: The name tf.placeholder is deprecated. Please use tf.compat.v1.placeholder instead.\n",
            "\n",
            "WARNING:tensorflow:From /usr/local/lib/python3.6/dist-packages/keras/backend/tensorflow_backend.py:4432: The name tf.random_uniform is deprecated. Please use tf.random.uniform instead.\n",
            "\n",
            "WARNING:tensorflow:From /usr/local/lib/python3.6/dist-packages/keras/backend/tensorflow_backend.py:190: The name tf.get_default_session is deprecated. Please use tf.compat.v1.get_default_session instead.\n",
            "\n",
            "WARNING:tensorflow:From /usr/local/lib/python3.6/dist-packages/keras/backend/tensorflow_backend.py:207: The name tf.global_variables is deprecated. Please use tf.compat.v1.global_variables instead.\n",
            "\n",
            "WARNING:tensorflow:From /usr/local/lib/python3.6/dist-packages/keras/backend/tensorflow_backend.py:216: The name tf.is_variable_initialized is deprecated. Please use tf.compat.v1.is_variable_initialized instead.\n",
            "\n",
            "WARNING:tensorflow:From /usr/local/lib/python3.6/dist-packages/keras/backend/tensorflow_backend.py:223: The name tf.variables_initializer is deprecated. Please use tf.compat.v1.variables_initializer instead.\n",
            "\n",
            "WARNING:tensorflow:From /usr/local/lib/python3.6/dist-packages/keras/backend/tensorflow_backend.py:2041: The name tf.nn.fused_batch_norm is deprecated. Please use tf.compat.v1.nn.fused_batch_norm instead.\n",
            "\n",
            "WARNING:tensorflow:From /usr/local/lib/python3.6/dist-packages/keras/backend/tensorflow_backend.py:148: The name tf.placeholder_with_default is deprecated. Please use tf.compat.v1.placeholder_with_default instead.\n",
            "\n",
            "WARNING:tensorflow:From /usr/local/lib/python3.6/dist-packages/keras/backend/tensorflow_backend.py:4267: The name tf.nn.max_pool is deprecated. Please use tf.nn.max_pool2d instead.\n",
            "\n",
            "WARNING:tensorflow:From /usr/local/lib/python3.6/dist-packages/keras/backend/tensorflow_backend.py:4271: The name tf.nn.avg_pool is deprecated. Please use tf.nn.avg_pool2d instead.\n",
            "\n",
            "Downloading data from https://github.com/fchollet/deep-learning-models/releases/download/v0.5/inception_v3_weights_tf_dim_ordering_tf_kernels_notop.h5\n",
            "87916544/87910968 [==============================] - 2s 0us/step\n"
          ],
          "name": "stdout"
        }
      ]
    },
    {
      "cell_type": "code",
      "metadata": {
        "id": "rvapAggVIs9r",
        "colab_type": "code",
        "outputId": "ee75a833-fb1d-41dc-cc83-7c9e683ee0df",
        "colab": {
          "base_uri": "https://localhost:8080/",
          "height": 196
        }
      },
      "source": [
        "# opt = RMSprop(lr=0.0001, decay=1e-6)\n",
        "opt = Adam(lr=0.0001, decay=1e-5)\n",
        "es = EarlyStopping(patience=5)\n",
        "chkpt = ModelCheckpoint(filepath='best_model_todate', save_best_only=True, save_weights_only=True)\n",
        "model.compile(loss='binary_crossentropy', metrics=['accuracy'],optimizer=opt)"
      ],
      "execution_count": 0,
      "outputs": [
        {
          "output_type": "error",
          "ename": "NameError",
          "evalue": "ignored",
          "traceback": [
            "\u001b[0;31m---------------------------------------------------------------------------\u001b[0m",
            "\u001b[0;31mNameError\u001b[0m                                 Traceback (most recent call last)",
            "\u001b[0;32m<ipython-input-11-15e9b3c4e5e2>\u001b[0m in \u001b[0;36m<module>\u001b[0;34m()\u001b[0m\n\u001b[1;32m      2\u001b[0m \u001b[0mes\u001b[0m \u001b[0;34m=\u001b[0m \u001b[0mEarlyStopping\u001b[0m\u001b[0;34m(\u001b[0m\u001b[0mpatience\u001b[0m\u001b[0;34m=\u001b[0m\u001b[0;36m5\u001b[0m\u001b[0;34m)\u001b[0m\u001b[0;34m\u001b[0m\u001b[0;34m\u001b[0m\u001b[0m\n\u001b[1;32m      3\u001b[0m \u001b[0mchkpt\u001b[0m \u001b[0;34m=\u001b[0m \u001b[0mModelCheckpoint\u001b[0m\u001b[0;34m(\u001b[0m\u001b[0mfilepath\u001b[0m\u001b[0;34m=\u001b[0m\u001b[0;34m'best_model_todate'\u001b[0m\u001b[0;34m,\u001b[0m \u001b[0msave_best_only\u001b[0m\u001b[0;34m=\u001b[0m\u001b[0;32mTrue\u001b[0m\u001b[0;34m,\u001b[0m \u001b[0msave_weights_only\u001b[0m\u001b[0;34m=\u001b[0m\u001b[0;32mTrue\u001b[0m\u001b[0;34m)\u001b[0m\u001b[0;34m\u001b[0m\u001b[0;34m\u001b[0m\u001b[0m\n\u001b[0;32m----> 4\u001b[0;31m \u001b[0mmodel\u001b[0m\u001b[0;34m.\u001b[0m\u001b[0mcompile\u001b[0m\u001b[0;34m(\u001b[0m\u001b[0mloss\u001b[0m\u001b[0;34m=\u001b[0m\u001b[0;34m'binary_crossentropy'\u001b[0m\u001b[0;34m,\u001b[0m \u001b[0mmetrics\u001b[0m\u001b[0;34m=\u001b[0m\u001b[0;34m[\u001b[0m\u001b[0;34m'accuracy'\u001b[0m\u001b[0;34m]\u001b[0m\u001b[0;34m,\u001b[0m\u001b[0moptimizer\u001b[0m\u001b[0;34m=\u001b[0m\u001b[0mopt\u001b[0m\u001b[0;34m)\u001b[0m\u001b[0;34m\u001b[0m\u001b[0;34m\u001b[0m\u001b[0m\n\u001b[0m",
            "\u001b[0;31mNameError\u001b[0m: name 'model' is not defined"
          ]
        }
      ]
    },
    {
      "cell_type": "code",
      "metadata": {
        "id": "6pgjjrFYIs9u",
        "colab_type": "code",
        "outputId": "763135dd-3fde-433c-d1c9-8f99dcf20ca9",
        "colab": {
          "base_uri": "https://localhost:8080/",
          "height": 33
        }
      },
      "source": [
        "batch_size = 32\n",
        "nb_epochs = 10\n",
        "\n",
        "# Get a train data generator\n",
        "train_data_gen = data_gen(data=train_data, batch_size=batch_size)\n",
        "\n",
        "# Define the number of training steps\n",
        "nb_train_steps = train_data.shape[0]//batch_size\n",
        "\n",
        "print(\"Number of training and validation steps: {} and {}\".format(nb_train_steps, len(valid_data)))"
      ],
      "execution_count": 0,
      "outputs": [
        {
          "output_type": "stream",
          "text": [
            "Number of training and validation steps: 163 and 16\n"
          ],
          "name": "stdout"
        }
      ]
    },
    {
      "cell_type": "code",
      "metadata": {
        "id": "fLf_PRdKIs9x",
        "colab_type": "code",
        "outputId": "e555c79e-c93c-455f-95ac-9124fe700cae",
        "colab": {
          "base_uri": "https://localhost:8080/",
          "height": 196
        }
      },
      "source": [
        "# Fit the model\n",
        "history = model.fit_generator(train_data_gen, epochs=nb_epochs, steps_per_epoch=nb_train_steps,\n",
        "                              validation_data=(valid_data, valid_labels),callbacks=[es, chkpt],\n",
        "                              class_weight={0:1.0, 1:0.4})"
      ],
      "execution_count": 0,
      "outputs": [
        {
          "output_type": "error",
          "ename": "NameError",
          "evalue": "ignored",
          "traceback": [
            "\u001b[0;31m---------------------------------------------------------------------------\u001b[0m",
            "\u001b[0;31mNameError\u001b[0m                                 Traceback (most recent call last)",
            "\u001b[0;32m<ipython-input-1-f7fb668d2300>\u001b[0m in \u001b[0;36m<module>\u001b[0;34m()\u001b[0m\n\u001b[0;32m----> 1\u001b[0;31m history = model.fit_generator(train_data_gen, epochs=nb_epochs, steps_per_epoch=nb_train_steps,\n\u001b[0m\u001b[1;32m      2\u001b[0m                               \u001b[0mvalidation_data\u001b[0m\u001b[0;34m=\u001b[0m\u001b[0;34m(\u001b[0m\u001b[0mvalid_data\u001b[0m\u001b[0;34m,\u001b[0m \u001b[0mvalid_labels\u001b[0m\u001b[0;34m)\u001b[0m\u001b[0;34m,\u001b[0m\u001b[0mcallbacks\u001b[0m\u001b[0;34m=\u001b[0m\u001b[0;34m[\u001b[0m\u001b[0mes\u001b[0m\u001b[0;34m,\u001b[0m \u001b[0mchkpt\u001b[0m\u001b[0;34m]\u001b[0m\u001b[0;34m,\u001b[0m\u001b[0;34m\u001b[0m\u001b[0;34m\u001b[0m\u001b[0m\n\u001b[1;32m      3\u001b[0m                               class_weight={0:1.0, 1:0.4})\n",
            "\u001b[0;31mNameError\u001b[0m: name 'model' is not defined"
          ]
        }
      ]
    },
    {
      "cell_type": "code",
      "metadata": {
        "id": "iW58GmBYIs91",
        "colab_type": "code",
        "colab": {}
      },
      "source": [
        "# summarize history for accuracy\n",
        "plt.figure(figsize=(12,6),)\n",
        "plt.plot(history.history['acc'])\n",
        "plt.plot(history.history['val_acc'])\n",
        "plt.title('model accuracy',color = 'white')\n",
        "plt.ylabel('accuracy',color = 'white')\n",
        "plt.xlabel('epoch',color = 'white')\n",
        "plt.legend(['train', 'test'], loc='upper left')\n",
        "plt.show()\n",
        "# summarize history for loss\n",
        "plt.figure(figsize=(12,6))\n",
        "plt.plot(history.history['loss'])\n",
        "plt.plot(history.history['val_loss'])\n",
        "plt.title('model loss',color = 'white')\n",
        "plt.ylabel('loss',color = 'white')\n",
        "plt.xlabel('epoch',color = 'white')\n",
        "plt.legend(['train', 'test'], loc='upper left')\n",
        "plt.show()"
      ],
      "execution_count": 0,
      "outputs": []
    },
    {
      "cell_type": "code",
      "metadata": {
        "id": "lnawrTMIl5JZ",
        "colab_type": "code",
        "outputId": "713b044e-2372-427b-a536-a6b81fae4bd0",
        "colab": {
          "base_uri": "https://localhost:8080/",
          "height": 204
        }
      },
      "source": [
        "# Evaluation on test dataset\n",
        "test_loss, test_score = model.evaluate(test_data, test_labels, batch_size=16)\n",
        "print(\"Loss on test set: \", test_loss)\n",
        "print(\"Accuracy on test set: \", test_score)"
      ],
      "execution_count": 0,
      "outputs": [
        {
          "output_type": "stream",
          "text": [
            "WARNING:tensorflow:From /usr/local/lib/python3.6/dist-packages/keras/optimizers.py:793: The name tf.train.Optimizer is deprecated. Please use tf.compat.v1.train.Optimizer instead.\n",
            "\n",
            "WARNING:tensorflow:From /usr/local/lib/python3.6/dist-packages/keras/backend/tensorflow_backend.py:3657: The name tf.log is deprecated. Please use tf.math.log instead.\n",
            "\n",
            "WARNING:tensorflow:From /usr/local/lib/python3.6/dist-packages/tensorflow_core/python/ops/nn_impl.py:183: where (from tensorflow.python.ops.array_ops) is deprecated and will be removed in a future version.\n",
            "Instructions for updating:\n",
            "Use tf.where in 2.0, which has the same broadcast rule as np.where\n",
            "624/624 [==============================] - 12s 19ms/step\n",
            "Loss on test set:  0.7929292680629283\n",
            "Accuracy on test set:  0.8766025641025641\n"
          ],
          "name": "stdout"
        }
      ]
    },
    {
      "cell_type": "markdown",
      "metadata": {
        "id": "9cdLnFx6Ef8Q",
        "colab_type": "text"
      },
      "source": [
        "# **Model Averaging Ensemble**\n"
      ]
    },
    {
      "cell_type": "code",
      "metadata": {
        "id": "RUW9a167zYbI",
        "colab_type": "code",
        "outputId": "632debcf-5d60-4fc7-eb53-df00603a5f7c",
        "colab": {
          "base_uri": "https://localhost:8080/",
          "height": 33
        }
      },
      "source": [
        "%cd drive/My Drive/Pattern Recognition/models"
      ],
      "execution_count": 0,
      "outputs": [
        {
          "output_type": "stream",
          "text": [
            "/content/drive/My Drive/Pattern Recognition/models\n"
          ],
          "name": "stdout"
        }
      ]
    },
    {
      "cell_type": "code",
      "metadata": {
        "id": "91DGCivJMl59",
        "colab_type": "code",
        "colab": {}
      },
      "source": [
        "def model_compile(model):\n",
        "  opt = Adam(lr=0.0001, decay=1e-5)\n",
        "  es = EarlyStopping(patience=5)\n",
        "  chkpt = ModelCheckpoint(filepath='best_model_todate', save_best_only=True, save_weights_only=True)\n",
        "  model.compile(loss='binary_crossentropy', metrics=['accuracy'],optimizer=opt)"
      ],
      "execution_count": 0,
      "outputs": []
    },
    {
      "cell_type": "code",
      "metadata": {
        "id": "iFRpyMg4Dqli",
        "colab_type": "code",
        "outputId": "a7714c7d-fe94-4c0d-80f3-cdaf5f0d2e89",
        "colab": {
          "base_uri": "https://localhost:8080/",
          "height": 555
        }
      },
      "source": [
        "#load model to member list\n",
        "member =  []\n",
        "for i in range(9):\n",
        "  model = build_model()\n",
        "  model.load_weights('weight' + str(i+1)+'.h5')\n",
        "  print('weight' + str(i+1)+'.h5' + ' : appended')\n",
        "  member.append(model)"
      ],
      "execution_count": 0,
      "outputs": [
        {
          "output_type": "stream",
          "text": [
            "WARNING:tensorflow:From /usr/local/lib/python3.6/dist-packages/keras/backend/tensorflow_backend.py:541: The name tf.placeholder is deprecated. Please use tf.compat.v1.placeholder instead.\n",
            "\n",
            "WARNING:tensorflow:From /usr/local/lib/python3.6/dist-packages/keras/backend/tensorflow_backend.py:4432: The name tf.random_uniform is deprecated. Please use tf.random.uniform instead.\n",
            "\n",
            "WARNING:tensorflow:From /usr/local/lib/python3.6/dist-packages/keras/backend/tensorflow_backend.py:190: The name tf.get_default_session is deprecated. Please use tf.compat.v1.get_default_session instead.\n",
            "\n",
            "WARNING:tensorflow:From /usr/local/lib/python3.6/dist-packages/keras/backend/tensorflow_backend.py:207: The name tf.global_variables is deprecated. Please use tf.compat.v1.global_variables instead.\n",
            "\n",
            "WARNING:tensorflow:From /usr/local/lib/python3.6/dist-packages/keras/backend/tensorflow_backend.py:216: The name tf.is_variable_initialized is deprecated. Please use tf.compat.v1.is_variable_initialized instead.\n",
            "\n",
            "WARNING:tensorflow:From /usr/local/lib/python3.6/dist-packages/keras/backend/tensorflow_backend.py:223: The name tf.variables_initializer is deprecated. Please use tf.compat.v1.variables_initializer instead.\n",
            "\n",
            "WARNING:tensorflow:From /usr/local/lib/python3.6/dist-packages/keras/backend/tensorflow_backend.py:2041: The name tf.nn.fused_batch_norm is deprecated. Please use tf.compat.v1.nn.fused_batch_norm instead.\n",
            "\n",
            "WARNING:tensorflow:From /usr/local/lib/python3.6/dist-packages/keras/backend/tensorflow_backend.py:148: The name tf.placeholder_with_default is deprecated. Please use tf.compat.v1.placeholder_with_default instead.\n",
            "\n",
            "WARNING:tensorflow:From /usr/local/lib/python3.6/dist-packages/keras/backend/tensorflow_backend.py:4267: The name tf.nn.max_pool is deprecated. Please use tf.nn.max_pool2d instead.\n",
            "\n",
            "WARNING:tensorflow:From /usr/local/lib/python3.6/dist-packages/keras/backend/tensorflow_backend.py:4271: The name tf.nn.avg_pool is deprecated. Please use tf.nn.avg_pool2d instead.\n",
            "\n",
            "Downloading data from https://github.com/fchollet/deep-learning-models/releases/download/v0.5/inception_v3_weights_tf_dim_ordering_tf_kernels_notop.h5\n",
            "87916544/87910968 [==============================] - 3s 0us/step\n",
            "weight1.h5 : appended\n",
            "weight2.h5 : appended\n",
            "weight3.h5 : appended\n",
            "weight4.h5 : appended\n",
            "weight5.h5 : appended\n",
            "weight6.h5 : appended\n",
            "weight7.h5 : appended\n",
            "weight8.h5 : appended\n",
            "weight9.h5 : appended\n"
          ],
          "name": "stdout"
        }
      ]
    },
    {
      "cell_type": "markdown",
      "metadata": {
        "id": "nmm5aTMgSV69",
        "colab_type": "text"
      },
      "source": [
        "ROC represent all model"
      ]
    },
    {
      "cell_type": "code",
      "metadata": {
        "id": "nAaJS_fdtFSq",
        "colab_type": "code",
        "outputId": "b002c5eb-dbc3-4276-b73c-688d53afee0b",
        "colab": {
          "base_uri": "https://localhost:8080/",
          "height": 382
        }
      },
      "source": [
        "all_fpr = []\n",
        "all_tpr = []\n",
        "all_roc_auc =[]\n",
        "plt.figure(dpi=100)\n",
        "for i in range(len(member)):\n",
        "  fpr , tpr , _=  roc_curve(test_labels,member[i].predict(test_data, batch_size=16))\n",
        "  roc_auc = auc(fpr,tpr)\n",
        "  all_fpr.append(fpr)\n",
        "  all_tpr.append(tpr)\n",
        "  all_roc_auc.append(roc_auc)\n",
        "  plt.plot(all_fpr[i],all_tpr[i],label='Model %d  , AUC = %0.3f' % (i+1,all_roc_auc[i]))\n",
        "plt.legend(loc= 'lower right')\n",
        "plt.plot([0, 1], [0, 1], 'k--')\n",
        "plt.ylabel('True positive rate')\n",
        "plt.xlabel('False positive rate')\n",
        "plt.show()\n"
      ],
      "execution_count": 0,
      "outputs": [
        {
          "output_type": "display_data",
          "data": {
            "image/png": "[encoded data removed]",
            "text/plain": [
              "<Figure size 600x400 with 1 Axes>"
            ]
          },
          "metadata": {
            "tags": []
          }
        }
      ]
    },
    {
      "cell_type": "code",
      "metadata": {
        "id": "II4QU-qg2aEU",
        "colab_type": "code",
        "colab": {}
      },
      "source": [
        "def ensemble_predictions(members, testX):\n",
        "\tyhats = [model.predict(testX) for model in members]\n",
        "\tyhats = np.array(yhats)\n",
        "\tsummed = np.sum(yhats,axis=0)/len(members)\n",
        "\tsummed[summed > 0.5] = 1\n",
        "\tsummed[summed <= 0.5] = 0\n",
        "\tresult = summed.reshape(-1,)\n",
        "\treturn result\n",
        "\n",
        "def ensemble_predictions_for_roc_model_average(members, testX):\n",
        "\tyhats = [model.predict(testX) for model in members]\n",
        "\tyhats = np.array(yhats)\n",
        "\tsummed = np.sum(yhats,axis=0)/len(members)\n",
        "\tresult = summed.reshape(-1,)\n",
        "\treturn result\n",
        "\n",
        "# evaluate a specific number of members in an ensemble\n",
        "def evaluate_n_members(members, n_members, testX, testy):\n",
        "\t# select a subset of members\n",
        "\tsubset = members[:n_members]\n",
        "\t# make prediction\n",
        "\tyhat = ensemble_predictions(subset, testX)\n",
        "\t# calculate accuracy\n",
        "\treturn accuracy_score(testy, yhat)"
      ],
      "execution_count": 0,
      "outputs": []
    },
    {
      "cell_type": "markdown",
      "metadata": {
        "id": "kU7seLewPexc",
        "colab_type": "text"
      },
      "source": [
        "Reshape test_labels"
      ]
    },
    {
      "cell_type": "code",
      "metadata": {
        "id": "NRNeBUHyPcC2",
        "colab_type": "code",
        "colab": {}
      },
      "source": [
        "test_label = test_labels.reshape(-1,)"
      ],
      "execution_count": 0,
      "outputs": []
    },
    {
      "cell_type": "code",
      "metadata": {
        "id": "T6WvHn36-zSc",
        "colab_type": "code",
        "outputId": "dfeb71db-6d71-477d-f0fc-b7946d14fd2d",
        "colab": {
          "base_uri": "https://localhost:8080/",
          "height": 154
        }
      },
      "source": [
        "for i in range(1, len(member)+1):\n",
        "\tmodel_compile(member[i-1])"
      ],
      "execution_count": 0,
      "outputs": [
        {
          "output_type": "stream",
          "text": [
            "WARNING:tensorflow:From /usr/local/lib/python3.6/dist-packages/keras/optimizers.py:793: The name tf.train.Optimizer is deprecated. Please use tf.compat.v1.train.Optimizer instead.\n",
            "\n",
            "WARNING:tensorflow:From /usr/local/lib/python3.6/dist-packages/keras/backend/tensorflow_backend.py:3657: The name tf.log is deprecated. Please use tf.math.log instead.\n",
            "\n",
            "WARNING:tensorflow:From /usr/local/lib/python3.6/dist-packages/tensorflow_core/python/ops/nn_impl.py:183: where (from tensorflow.python.ops.array_ops) is deprecated and will be removed in a future version.\n",
            "Instructions for updating:\n",
            "Use tf.where in 2.0, which has the same broadcast rule as np.where\n"
          ],
          "name": "stdout"
        }
      ]
    },
    {
      "cell_type": "code",
      "metadata": {
        "id": "8Xx3ziCznU8y",
        "colab_type": "code",
        "outputId": "6189ee8e-368d-470a-891f-b8e9337ee173",
        "colab": {
          "base_uri": "https://localhost:8080/",
          "height": 167
        }
      },
      "source": [
        "for i in range(len(member)):\n",
        "  _, test_score = member[i].evaluate(test_data, test_labels, batch_size=16,verbose = 0)\n",
        "  print(\"Model {} Accuracy on test set: {:.3f}\".format(i+1,test_score))"
      ],
      "execution_count": 0,
      "outputs": [
        {
          "output_type": "stream",
          "text": [
            "Model 1 Accuracy on test set: 0.877\n",
            "Model 2 Accuracy on test set: 0.848\n",
            "Model 3 Accuracy on test set: 0.800\n",
            "Model 4 Accuracy on test set: 0.744\n",
            "Model 5 Accuracy on test set: 0.854\n",
            "Model 6 Accuracy on test set: 0.838\n",
            "Model 7 Accuracy on test set: 0.870\n",
            "Model 8 Accuracy on test set: 0.819\n",
            "Model 9 Accuracy on test set: 0.837\n"
          ],
          "name": "stdout"
        }
      ]
    },
    {
      "cell_type": "code",
      "metadata": {
        "id": "l95_624gNQ5D",
        "colab_type": "code",
        "outputId": "26d5c923-61b8-48b7-937f-40ce0f2f4433",
        "colab": {
          "base_uri": "https://localhost:8080/",
          "height": 167
        }
      },
      "source": [
        "ensemble_scores = []\n",
        "single_scores = []\n",
        "\n",
        "for i in range(1, len(member)+1):\n",
        "\t# evaluate model with i members\n",
        "\tensemble_score = evaluate_n_members(member, i, test_data, test_label)\n",
        "\t# evaluate the i'th model standalone\n",
        "\t\n",
        "\t_, single_score = member[i-1].evaluate(test_data, test_labels, verbose=0)\n",
        "\t# summarize this step\n",
        "\tprint('> %d: single=%.3f, ensemble=%.3f' % (i, single_score, ensemble_score))\n",
        "\tensemble_scores.append(ensemble_score)\n",
        "\tsingle_scores.append(single_score)"
      ],
      "execution_count": 0,
      "outputs": [
        {
          "output_type": "stream",
          "text": [
            "> 1: single=0.877, ensemble=0.877\n",
            "> 2: single=0.848, ensemble=0.864\n",
            "> 3: single=0.800, ensemble=0.838\n",
            "> 4: single=0.744, ensemble=0.816\n",
            "> 5: single=0.854, ensemble=0.825\n",
            "> 6: single=0.838, ensemble=0.830\n",
            "> 7: single=0.870, ensemble=0.841\n",
            "> 8: single=0.819, ensemble=0.833\n",
            "> 9: single=0.837, ensemble=0.835\n"
          ],
          "name": "stdout"
        }
      ]
    },
    {
      "cell_type": "code",
      "metadata": {
        "id": "E-1qPoQ9H9w3",
        "colab_type": "code",
        "outputId": "00e13a0e-c3e5-4b51-a05a-e7e170ba86e6",
        "colab": {
          "base_uri": "https://localhost:8080/",
          "height": 265
        }
      },
      "source": [
        "from matplotlib import pyplot\n",
        "x_axis = [i for i in range(1, len(member)+1)]\n",
        "pyplot.plot(x_axis, single_scores, marker='o', linestyle='None')\n",
        "pyplot.plot(x_axis, ensemble_scores, marker='o')\n",
        "pyplot.show()"
      ],
      "execution_count": 0,
      "outputs": [
        {
          "output_type": "display_data",
          "data": {
            "image/png": "[encoded data removed]",
            "text/plain": [
              "<Figure size 432x288 with 1 Axes>"
            ]
          },
          "metadata": {
            "tags": []
          }
        }
      ]
    },
    {
      "cell_type": "code",
      "metadata": {
        "id": "3Cf4Xqbmv8f2",
        "colab_type": "code",
        "outputId": "4e5c7fa9-661e-491f-ab9d-e0aba0628c40",
        "colab": {
          "base_uri": "https://localhost:8080/",
          "height": 279
        }
      },
      "source": [
        "for i in range(len(member)):\n",
        "  plt.plot(all_fpr[i],all_tpr[i],label='Model %d  , AUC = %0.3f' % (i+1,all_roc_auc[i]))\n",
        "for i in range(1):\n",
        "  fpr , tpr , _=  roc_curve(test_labels, ensemble_predictions_for_roc_model_average(member, test_data))\n",
        "  roc_auc = auc(fpr,tpr)\n",
        "  plt.plot(fpr,tpr,linestyle=':',linewidth=4,label='Model Average Ensemble , AUC = %0.3f' % roc_auc)\n",
        "plt.legend(loc= 'lower right')\n",
        "plt.plot([0, 1], [0, 1], 'k--')\n",
        "plt.ylabel('True positive rate')\n",
        "plt.xlabel('False positive rate')\n",
        "plt.show()"
      ],
      "execution_count": 0,
      "outputs": [
        {
          "output_type": "display_data",
          "data": {
            "image/png": "[encoded data removed]",
            "text/plain": [
              "<Figure size 432x288 with 1 Axes>"
            ]
          },
          "metadata": {
            "tags": []
          }
        }
      ]
    },
    {
      "cell_type": "markdown",
      "metadata": {
        "id": "mgjNAkJpn7XT",
        "colab_type": "text"
      },
      "source": [
        "\n",
        "# **Grid Search Weighted Average Ensemble**"
      ]
    },
    {
      "cell_type": "code",
      "metadata": {
        "id": "vtoOW_sdSUET",
        "colab_type": "code",
        "colab": {}
      },
      "source": [
        "from numpy import tensordot \n",
        "# make an ensemble prediction for multi-class classification\n",
        "def ensemble_predictions_for_weight_average(members, weights, testX):\n",
        "\t# make predictions\n",
        "\tyhats = [model.predict(testX) for model in members]\n",
        "\tyhats = np.array(yhats)\n",
        "\t# weighted sum across ensemble members\n",
        "\t\n",
        "\tsummed = tensordot(yhats, weights, axes=((0),(0)))\n",
        "\tsummed[summed > 0.5] = 1\n",
        "\tsummed[summed <= 0.5] = 0\n",
        "\tresult = summed.reshape(-1,)\n",
        "\treturn result"
      ],
      "execution_count": 0,
      "outputs": []
    },
    {
      "cell_type": "code",
      "metadata": {
        "id": "zabeOaINEisO",
        "colab_type": "code",
        "colab": {}
      },
      "source": [
        "def ensemble_predictions_for_roc_weight_average(members, weights, testX):\n",
        "\t# make predictions\n",
        "\tyhats = [model.predict(testX) for model in members]\n",
        "\tyhats = np.array(yhats)\n",
        "\t# weighted sum across ensemble members\n",
        "\t\n",
        "\tsummed = tensordot(yhats, weights, axes=((0),(0)))\n",
        "\tresult = summed.reshape(-1,)\n",
        "\treturn result"
      ],
      "execution_count": 0,
      "outputs": []
    },
    {
      "cell_type": "code",
      "metadata": {
        "id": "RoBV3jhYPZDx",
        "colab_type": "code",
        "colab": {}
      },
      "source": [
        "# evaluate a specific number of members in an ensemble\n",
        "def evaluate_ensemble(members, weights, testX, testy):\n",
        "\t# make prediction\n",
        "\tyhat = ensemble_predictions_for_weight_average(members, weights, testX)\n",
        "\t# calculate accuracy\n",
        "\treturn accuracy_score(testy, yhat)"
      ],
      "execution_count": 0,
      "outputs": []
    },
    {
      "cell_type": "code",
      "metadata": {
        "id": "TV9_AxP9okOv",
        "colab_type": "code",
        "colab": {}
      },
      "source": [
        "# normalize a vector to have unit norm\n",
        "def normalize(weights):\n",
        "\t# calculate l1 vector norm\n",
        "\tresult = norm(weights, 1)\n",
        "\t# check for a vector of all zeros\n",
        "\tif result == 0.0:\n",
        "\t\treturn weights\n",
        "\t# return normalized vector (unit norm)\n",
        "\treturn weights / result"
      ],
      "execution_count": 0,
      "outputs": []
    },
    {
      "cell_type": "code",
      "metadata": {
        "id": "yPPfIdLUokKc",
        "colab_type": "code",
        "colab": {}
      },
      "source": [
        "# grid search weights\n",
        "from itertools import product\n",
        "def grid_search(members, testX, testy):\n",
        "\t# define weights to consider\n",
        "\tw = [0.2, 0.4, 0.6]\n",
        "\tbest_score, best_weights = 0.0, None\n",
        "\t# iterate all possible combinations (cartesian product)\n",
        "\tfor weights in product(w, repeat=len(members)):\n",
        "\t\t# skip if all weights are equal\n",
        "\t\tif len(set(weights)) == 1:\n",
        "\t\t\tcontinue\n",
        "\t\t# hack, normalize weight vector\n",
        "\t\tweights = normalize(weights)\n",
        "\t\t# evaluate weights\n",
        "\t\tscore = evaluate_ensemble(members, weights, testX, testy)\n",
        "\t\tif score > best_score:\n",
        "\t\t\tbest_score, best_weights = score, weights\n",
        "\t\t\tprint('>%s %.3f' % (best_weights, best_score))\n",
        "\treturn list(best_weights)"
      ],
      "execution_count": 0,
      "outputs": []
    },
    {
      "cell_type": "code",
      "metadata": {
        "id": "7rU1jduwxE03",
        "colab_type": "code",
        "outputId": "315c6945-9f47-4d41-f5f1-2132202fc755",
        "colab": {
          "base_uri": "https://localhost:8080/",
          "height": 150
        }
      },
      "source": [
        "n_model = 3\n",
        "sub_member = [member[0],member[3],member[6]]\n",
        "for i in range(n_model):\n",
        "\t_, test_acc = sub_member[i].evaluate(test_data, test_labels, verbose=0)\n",
        "\tprint('Model %d: %.3f' % (i+1, test_acc))\n",
        "# evaluate averaging ensemble (equal weights)\n",
        "weights = [1.0/n_model for _ in range(n_model)]\n",
        "score = evaluate_ensemble(sub_member, weights, test_data, test_label)\n",
        "print('Equal Weights Score: %.3f' % score)\n",
        "\n",
        "# grid search weights\n",
        "weights = grid_search(sub_member, test_data, test_labels)\n",
        "score = evaluate_ensemble(sub_member, weights, test_data, test_label)\n",
        "print('Grid Search Weights: %s, Score: %.3f' % (weights, score))"
      ],
      "execution_count": 0,
      "outputs": [
        {
          "output_type": "stream",
          "text": [
            "Model 1: 0.877\n",
            "Model 2: 0.744\n",
            "Model 3: 0.870\n",
            "Equal Weights Score: 0.841\n",
            ">[0.25 0.25 0.5 ] 0.856\n",
            ">[0.2 0.2 0.6] 0.865\n",
            ">[0.33333333 0.16666667 0.5       ] 0.867\n",
            "Grid Search Weights: [0.3333333333333333, 0.16666666666666666, 0.4999999999999999], Score: 0.867\n"
          ],
          "name": "stdout"
        }
      ]
    },
    {
      "cell_type": "code",
      "metadata": {
        "id": "otD7X99CyD5v",
        "colab_type": "code",
        "outputId": "d391bec2-5350-4842-ec11-d91e46d3d5dd",
        "colab": {
          "base_uri": "https://localhost:8080/",
          "height": 382
        }
      },
      "source": [
        "all_fpr_for_weight = []\n",
        "all_tpr_for_weight = []\n",
        "all_roc_auc_for_weight = []\n",
        "n_model = 3\n",
        "\n",
        "plt.figure(dpi=100)\n",
        "for i in range(n_model):\n",
        "  fpr , tpr , _=  roc_curve(test_labels, sub_member[i].predict(test_data, batch_size=16))\n",
        "  roc_auc = auc(fpr,tpr)\n",
        "  all_fpr_for_weight.append(fpr)\n",
        "  all_tpr_for_weight.append(tpr)\n",
        "  all_roc_auc_for_weight.append(roc_auc)\n",
        "for i in range(n_model):\n",
        "  plt.plot(all_fpr_for_weight[i],all_tpr_for_weight[i],label='Model %d  , AUC = %0.3f' % (i+1,all_roc_auc_for_weight[i]))\n",
        "for i in range(1):\n",
        "  fpr , tpr , _=  roc_curve(test_labels, ensemble_predictions_for_roc_weight_average(sub_member, weights, test_data))\n",
        "  roc_auc = auc(fpr,tpr)\n",
        "  plt.plot(fpr,tpr,linestyle=':',linewidth=4,label='Weight Ensemble Ensemble, AUC = %0.3f' % roc_auc)\n",
        "plt.legend(loc= 'lower right')\n",
        "plt.plot([0, 1], [0, 1], 'k--')\n",
        "plt.ylabel('True positive rate')\n",
        "plt.xlabel('False positive rate')\n",
        "plt.show()"
      ],
      "execution_count": 0,
      "outputs": [
        {
          "output_type": "display_data",
          "data": {
            "image/png": "[encoded data removed]",
            "text/plain": [
              "<Figure size 600x400 with 1 Axes>"
            ]
          },
          "metadata": {
            "tags": []
          }
        }
      ]
    },
    {
      "cell_type": "markdown",
      "metadata": {
        "id": "p2WlNbE42dei",
        "colab_type": "text"
      },
      "source": [
        "# **New Model With Average Models Weights**"
      ]
    },
    {
      "cell_type": "code",
      "metadata": {
        "id": "mokdhsKM1iVf",
        "colab_type": "code",
        "colab": {}
      },
      "source": [
        "from keras.models import clone_model\n",
        "# create a model from the weights of multiple models\n",
        "def model_weight_ensemble(members, weights):\n",
        "\t# determine how many layers need to be averaged\n",
        "\tn_layers = len(members[0].get_weights())\n",
        "\t# create an set of average model weights\n",
        "\tavg_model_weights = list()\n",
        "\tfor layer in range(n_layers):\n",
        "\t\t# collect this layer from each model\n",
        "\t\tlayer_weights = np.array([model.get_weights()[layer] for model in members])\n",
        "\t\t# weighted average of weights for this layer\n",
        "\t\tavg_layer_weights = np.average(layer_weights, axis=0, weights=weights)\n",
        "\t\t# store average layer weights\n",
        "\t\tavg_model_weights.append(avg_layer_weights)\n",
        "\t# create a new model with the same structure\n",
        "\tmodel = clone_model(members[0])\n",
        "\t# set the weights in the new\n",
        "\tmodel.set_weights(avg_model_weights)\n",
        "\tmodel_compile(model)\n",
        "\treturn model"
      ],
      "execution_count": 0,
      "outputs": []
    },
    {
      "cell_type": "code",
      "metadata": {
        "id": "SEaViTiQQxH6",
        "colab_type": "code",
        "colab": {}
      },
      "source": [
        "def ensemble_predictions_for_roc_average_model(model, testX):\n",
        "\tyhats = [model.predict(testX)]\n",
        "\tyhats = np.array(yhats)\n",
        "\tresult = yhats.reshape(-1,)\n",
        "\treturn result"
      ],
      "execution_count": 0,
      "outputs": []
    },
    {
      "cell_type": "code",
      "metadata": {
        "id": "Xi-eoXaa2ke2",
        "colab_type": "code",
        "colab": {}
      },
      "source": [
        "weights = [1.0/len(member) for i in range(1, len(member)+1)]\n",
        "average_model = model_weight_ensemble(member, weights)\n"
      ],
      "execution_count": 0,
      "outputs": []
    },
    {
      "cell_type": "markdown",
      "metadata": {
        "id": "zouWGiwlQaQi",
        "colab_type": "text"
      },
      "source": [
        "## ROC for Average Model"
      ]
    },
    {
      "cell_type": "code",
      "metadata": {
        "id": "NqVYlAvCOBdn",
        "colab_type": "code",
        "outputId": "42a83972-1fde-4e3b-d3c1-e10522360ca6",
        "colab": {
          "base_uri": "https://localhost:8080/",
          "height": 382
        }
      },
      "source": [
        "all_fpr = []\n",
        "all_tpr = []\n",
        "all_roc_auc = []\n",
        "plt.figure(dpi=100)\n",
        "for i in range(len(member)):\n",
        "  fpr , tpr , _=  roc_curve(test_labels,member[i].predict(test_data, batch_size=16))\n",
        "  roc_auc = auc(fpr,tpr)\n",
        "  all_fpr.append(fpr)\n",
        "  all_tpr.append(tpr)\n",
        "  all_roc_auc.append(roc_auc)\n",
        "  plt.plot(all_fpr[i],all_tpr[i],label='Model %d  , AUC = %0.3f' % (i+1,all_roc_auc[i]))\n",
        "for i in range(1):\n",
        "  fpr , tpr , _=  roc_curve(test_labels, ensemble_predictions_for_roc_average_model(average_model, test_data))\n",
        "  roc_auc = auc(fpr,tpr)\n",
        "  plt.plot(fpr,tpr,linestyle=':',linewidth=4,label='Model Weight Average Ensemble , AUC = %0.3f' % roc_auc)\n",
        "plt.legend(loc= 'lower right')\n",
        "plt.plot([0, 1], [0, 1], 'k--')\n",
        "plt.ylabel('True positive rate')\n",
        "plt.xlabel('False positive rate')\n",
        "plt.show()"
      ],
      "execution_count": 0,
      "outputs": [
        {
          "output_type": "display_data",
          "data": {
            "image/png": "[encoded data removed]",
            "text/plain": [
              "<Figure size 600x400 with 1 Axes>"
            ]
          },
          "metadata": {
            "tags": []
          }
        }
      ]
    },
    {
      "cell_type": "code",
      "metadata": {
        "id": "x0or2iHe3I9r",
        "colab_type": "code",
        "outputId": "bd0aa90d-08d9-4100-8c19-fb20afe5a293",
        "colab": {
          "base_uri": "https://localhost:8080/",
          "height": 50
        }
      },
      "source": [
        "_,test_score = average_model.evaluate(test_data,test_labels)\n",
        "print(\"Model {} Accuracy on test set: {}\".format(i+1,test_score))"
      ],
      "execution_count": 0,
      "outputs": [
        {
          "output_type": "stream",
          "text": [
            "624/624 [==============================] - 1s 2ms/step\n",
            "Model 1 Accuracy on test set: 0.9166666666666666\n"
          ],
          "name": "stdout"
        }
      ]
    },
    {
      "cell_type": "code",
      "metadata": {
        "id": "Fcj9fgYD20SS",
        "colab_type": "code",
        "colab": {}
      },
      "source": [
        ""
      ],
      "execution_count": 0,
      "outputs": []
    }
  ]
}